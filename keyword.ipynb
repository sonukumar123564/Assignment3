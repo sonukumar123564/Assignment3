{
 "cells": [
  {
   "cell_type": "code",
   "execution_count": null,
   "id": "795012a7-ca67-4eab-9d9f-610a870ed9cd",
   "metadata": {},
   "outputs": [],
   "source": [
    " q 1. Explain the significance of Python keywords and provide examples of five keywords\n",
    "     Ans:- Python keywords are reserved words that have special meanings and cannot be used\n",
    "        as identifiers (names for variables, functions, etc.) in the code. These keywords are\n",
    "        an essential part of the language syntax, defining the structure and logic of the code.\n",
    "        They play a crucial role in controlling the flow of a program, defining functions, and managing data types."
   ]
  },
  {
   "cell_type": "code",
   "execution_count": null,
   "id": "50a13a9b-73af-4b07-bc7b-d4250bdc352c",
   "metadata": {},
   "outputs": [],
   "source": []
  },
  {
   "cell_type": "code",
   "execution_count": null,
   "id": "a650279d-ade1-4b4d-939a-c449461eebfb",
   "metadata": {},
   "outputs": [],
   "source": [
    "# Here are examples of five Python keywords along with their significance:\n",
    "\n",
    "1. if:\n",
    "\n",
    " Used for conditional statements\n",
    "It allows the execution of a block of code only if a specified condition is true.\n"
   ]
  },
  {
   "cell_type": "code",
   "execution_count": 1,
   "id": "d793095a-7c58-40d2-9fb9-82debb3bd553",
   "metadata": {},
   "outputs": [
    {
     "name": "stdout",
     "output_type": "stream",
     "text": [
      "x is greater than 5\n"
     ]
    }
   ],
   "source": [
    "x = 10\n",
    "if x > 5:\n",
    "    print(\"x is greater than 5\")\n"
   ]
  },
  {
   "cell_type": "code",
   "execution_count": null,
   "id": "3438cfb1-c493-4274-a2ff-f33dcc28ec84",
   "metadata": {},
   "outputs": [],
   "source": [
    "2. for:\n",
    "Used for loop constructs.\n",
    "It iterates over a sequence (such as a list, tuple, or string) \n",
    "and executes a block of code for each item in the sequence."
   ]
  },
  {
   "cell_type": "code",
   "execution_count": 2,
   "id": "b1c8302a-c2e5-40a0-8275-6d53dc20aeff",
   "metadata": {},
   "outputs": [
    {
     "name": "stdout",
     "output_type": "stream",
     "text": [
      "apple\n",
      "banana\n",
      "cherry\n"
     ]
    }
   ],
   "source": [
    "fruits = [\"apple\", \"banana\", \"cherry\"]\n",
    "for fruit in fruits:\n",
    "    print(fruit)\n"
   ]
  },
  {
   "cell_type": "code",
   "execution_count": null,
   "id": "785c26c6-40e7-47ab-b2e4-053143744964",
   "metadata": {},
   "outputs": [],
   "source": [
    "3. def:\n",
    " Used for defining functions.\n",
    "It is followed by the function name and a block of code that represents the function's body."
   ]
  },
  {
   "cell_type": "code",
   "execution_count": 3,
   "id": "09d99fae-cf58-4b47-898a-2963fa4f8395",
   "metadata": {},
   "outputs": [
    {
     "name": "stdout",
     "output_type": "stream",
     "text": [
      "Hello, Alice!\n"
     ]
    }
   ],
   "source": [
    "def greet(name):\n",
    "    print(\"Hello, \" + name + \"!\")\n",
    "greet(\"Alice\")\n"
   ]
  },
  {
   "cell_type": "code",
   "execution_count": null,
   "id": "6a68ef9d-4cf5-4105-ac21-f132665f6ad4",
   "metadata": {},
   "outputs": [],
   "source": [
    "4. class:\n",
    "    Used for defining classes, \n",
    "    which are a way to structure and organize code by creating objects with attributes and methods."
   ]
  },
  {
   "cell_type": "code",
   "execution_count": 5,
   "id": "5a4e7008-44b8-4633-bf4a-621d80742ba5",
   "metadata": {},
   "outputs": [
    {
     "name": "stdout",
     "output_type": "stream",
     "text": [
      "Buddy says Woof!\n"
     ]
    }
   ],
   "source": [
    "class Dog:\n",
    "    def __init__(self, name):\n",
    "        self.name = name\n",
    "\n",
    "    def bark(self):\n",
    "        print(self.name + \" says Woof!\")\n",
    "\n",
    "my_dog = Dog(\"Buddy\")\n",
    "my_dog.bark()\n"
   ]
  },
  {
   "cell_type": "code",
   "execution_count": null,
   "id": "594025d1-06ff-4a6e-bac8-c8778d7b67a9",
   "metadata": {},
   "outputs": [],
   "source": [
    "5. return:\n",
    " Used inside functions to indicate the value that the function should return to the caller. \n",
    "It terminates the function's execution and sends the specified value back."
   ]
  },
  {
   "cell_type": "code",
   "execution_count": 7,
   "id": "302b1d54-d734-4f65-b3d8-044293a604c7",
   "metadata": {},
   "outputs": [
    {
     "name": "stdout",
     "output_type": "stream",
     "text": [
      "Sum: 8\n"
     ]
    }
   ],
   "source": [
    "def add_numbers(a, b):\n",
    "    result = a + b\n",
    "    return result\n",
    "\n",
    "sum_result = add_numbers(5, 3)\n",
    "print(\"Sum:\", sum_result)\n"
   ]
  },
  {
   "cell_type": "code",
   "execution_count": null,
   "id": "48435765-bdd5-43db-94f4-099d9f2e5a63",
   "metadata": {},
   "outputs": [],
   "source": [
    "q 2. Descrive the rules for defining identifiers in Python and provide an example\n",
    "Ans:- \n",
    "In Python, identifiers are names given to variables, functions, classes, modules\n",
    "or any other entities in the program. Identifiers follow certain rules for their definition. \n",
    "Here are the rules for defining identifiers in Python:\n",
    "\n",
    " a.Valid Characters:\n",
    "\n",
    "Identifiers can include letters (both uppercase and lowercase), digits, and underscore (_).\n",
    "They must start with a letter (a-z, A-Z) or an underscore (_).\n",
    "Case Sensitivity:\n",
    "\n",
    " b.Python is case-sensitive: \n",
    "    so uppercase and lowercase letters are considered different. For example, myVar and myvar are different identifiers.\n",
    "    \n",
    "c. Reserved Words:\n",
    "\n",
    "Identifiers cannot be the same as Python keywords or reserved words, as they have special meanings in the language.\n",
    "No Spaces or Special Characters:\n",
    "\n",
    "Spaces and special characters (except underscore) are not allowed in identifiers.\n",
    "Length Limitation:\n",
    "\n",
    "There is no fixed limit on the length of an identifier, but it's advisable to keep them reasonably short and descriptive."
   ]
  },
  {
   "cell_type": "code",
   "execution_count": null,
   "id": "58b89023-b5a2-4b93-b127-ccc5f48ee556",
   "metadata": {},
   "outputs": [],
   "source": [
    "q 3. What are comments in Python, and why are they useful6 Provide an example\n",
    "Ans:- Comments in Python are annotations or explanatory notes within the code \n",
    "that are ignored by the Python interpreter during program execution. \n",
    "They are used to provide information, explanations, or documentation about\n",
    "the code for developers or anyone reading the code. \n",
    "Comments are a crucial aspect of writing maintainable and understandable code.\n",
    "\n",
    "there are two type of comment in pyhton\n",
    "\n",
    "1. single line comment: \n",
    "    These comments are written on a single line and are preceded by \n",
    "    the # symbol. Everything after the # on that line is treated as a comment.\n",
    "    for exaple \n",
    "     # print(\"hello world\")\n",
    "\n",
    "2. Multi line comment:\n",
    "    While Python does not have a specific syntax for multi-line comments,\n",
    "    triple-quotes (''' or \"\"\") are often used to create multi-line strings. \n",
    "    These strings are not assigned to any variable and are treated as comments.\n",
    "    \n",
    "    for example: \n",
    "    \n",
    "    '''\n",
    "This is a multi-line comment\n",
    "It spans across multiple lines\n",
    "'''"
   ]
  },
  {
   "cell_type": "code",
   "execution_count": null,
   "id": "501b2dbd-76d0-4732-8b6d-3fa8cadb3ffc",
   "metadata": {},
   "outputs": [],
   "source": [
    "Q 4. Why is proper indentation important in Python?\n",
    "Ans:-Proper indentation is crucial in Python because \n",
    "it is used to define the block structure of the code. \n",
    "In Python, indentation is not just a matter of style, \n",
    "it is a syntactical requirement. \n",
    "The interpreter uses indentation to determine \n",
    "the grouping of statements within loops, conditional statements, functions, and classes. \n",
    "The key reasons why proper indentation is important in Python are:\n",
    "    \n",
    "1. Readibility\n",
    "2.Block structure\n",
    "3.Maintainbility\n",
    "4.Scope and nesting\n"
   ]
  },
  {
   "cell_type": "code",
   "execution_count": null,
   "id": "24fadb93-895d-4df5-a836-4ae1cc3419c5",
   "metadata": {},
   "outputs": [],
   "source": [
    "Q 5. What happens if indentation is incorrect in Python?\n",
    "Ans:- \n",
    "In Python, indentation is not just a matter of style but is a syntactical requirement.\n",
    "Incorrect indentation can lead to various issues, and \n",
    "the Python interpreter will raise an IndentationError when it encounters inconsistent or improperly indented code. \n",
    "Here are some common scenarios and what happens when indentation is incorrect:\n",
    "    \n",
    "1. IndentationError: Unexpected Indent:\n",
    "\n",
    "If there is an unexpected increase in indentation \n",
    "where it is not expected, Python raises an IndentationError. \n",
    "This often occurs when a block of code (inside a function, loop, or conditional statement) is not indented properly.\n",
    "\n",
    "exaple : \n",
    "    def example_function():\n",
    "print(\"Indented incorrectly\")  # IndentationError here\n",
    "\n",
    "2. IndentationError: \n",
    "    Unindent does not match any outer indentation level:\n",
    "\n",
    "  If there is a decrease in indentation where it is not expected, \n",
    "         Python raises an IndentationError. \n",
    "This can happen if there is an extra unindentation or if the unindentation does not match the outer block.\n",
    "\n",
    "exaple: \n",
    "    if True:\n",
    "    print(\"Properly indented\")\n",
    "  print(\"Unexpected unindent\")  # IndentationError here\n",
    "\n",
    "3. Mixing Tabs and Spaces:\n",
    "\n",
    "Mixing tabs and spaces for indentation is not allowed in Python. \n",
    "If there is inconsistency in using tabs and spaces within the same block, Python raises an IndentationError.\n",
    "\n",
    "example :\n",
    "    def mixed_indentation():\n",
    "    print(\"Indented with spaces\")\n",
    "\tprint(\"Indented with tabs\")  # IndentationError here\n",
    "\n",
    "\n",
    "4. Incorrect Nesting:\n",
    "       Incorrect nesting, where blocks of code are not indented properly to reflect \n",
    "      their intended structure, can result in IndentationError.\n",
    "    exaple:\n",
    "        if True:\n",
    "print(\"Incorrect nesting\")  # IndentationError here\n",
    "\n",
    "\n"
   ]
  },
  {
   "cell_type": "code",
   "execution_count": null,
   "id": "1d46d18c-dd91-497a-b2eb-9683ec43bc0a",
   "metadata": {},
   "outputs": [],
   "source": [
    "Q 6. Differentiate between expression and statement in Python with examples\n",
    "\n",
    "Ans:- \n",
    "    In Python, expressions and statements are two fundamental components of the language,\n",
    "    but they serve different purposes and have distinct characteristics.\n",
    "    \n",
    "1. Expression:\n",
    "     An expression is a piece of code that produces a value when executed. \n",
    "        It can be as simple as a literal value, a variable, or a more complex combination of operators and functions.\n",
    "        Expressions are often used within statements to compute a value.\n",
    "        \n",
    "    example :\n",
    "        # Literal expression\n",
    "result = 5 + 3\n",
    "\n",
    "# Variable expression\n",
    "x = 10\n",
    "y = x * 2\n",
    "\n",
    "# Complex expression\n",
    "z = (x + y) / 2\n",
    "\n",
    "\n",
    "2.  Statement:\n",
    "       A statement is a complete line of code that performs an action. Unlike expressions\n",
    "        statements may not necessarily produce a value. Instead\n",
    "        they often involve control flow, assignments, or declarations. \n",
    "        Statements are executed one after another in a script or program.\n",
    "example:\n",
    "    # Assignment statement\n",
    "a = 10\n",
    "\n",
    "# Conditional statement\n",
    "if a > 5:\n",
    "    print(\"a is greater than 5\")\n",
    "else:\n",
    "    print(\"a is not greater than 5\")\n",
    "\n",
    "# Loop statement\n",
    "for i in range(3):\n",
    "    print(i)\n",
    "\n",
    "\n",
    "\n",
    "\n"
   ]
  }
 ],
 "metadata": {
  "kernelspec": {
   "display_name": "Python 3 (ipykernel)",
   "language": "python",
   "name": "python3"
  },
  "language_info": {
   "codemirror_mode": {
    "name": "ipython",
    "version": 3
   },
   "file_extension": ".py",
   "mimetype": "text/x-python",
   "name": "python",
   "nbconvert_exporter": "python",
   "pygments_lexer": "ipython3",
   "version": "3.10.8"
  }
 },
 "nbformat": 4,
 "nbformat_minor": 5
}
